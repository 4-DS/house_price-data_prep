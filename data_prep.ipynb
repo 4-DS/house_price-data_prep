{
 "cells": [
  {
   "cell_type": "code",
   "execution_count": null,
   "id": "870a1090-f4ae-45a0-aa93-0960f5c6478d",
   "metadata": {
    "tags": []
   },
   "outputs": [],
   "source": [
    "%load_ext autoreload\n",
    "%autoreload 2"
   ]
  },
  {
   "cell_type": "code",
   "execution_count": null,
   "id": "453c78e8-6822-4123-bf9d-ed1ae9dd7bea",
   "metadata": {
    "tags": [
     "parameters"
    ]
   },
   "outputs": [],
   "source": [
    "# specify substep parameters for interactive run\n",
    "# this cell will be replaced during job run with the parameters from json within params subfolder\n",
    "substep_params={\n",
    "}"
   ]
  },
  {
   "cell_type": "code",
   "execution_count": null,
   "id": "285174da-2cf4-49b0-899d-99028bc87482",
   "metadata": {},
   "outputs": [],
   "source": [
    "# load pipeline and step parameters - do not edit\n",
    "from sinara.substep import get_pipeline_params, get_step_params\n",
    "pipeline_params = get_pipeline_params(pprint=True)\n",
    "step_params = get_step_params(pprint=True)"
   ]
  },
  {
   "cell_type": "code",
   "execution_count": null,
   "id": "f3818420-6085-43ea-b97e-578742794e1e",
   "metadata": {
    "tags": []
   },
   "outputs": [],
   "source": [
    "#3 define substep interface\n",
    "from sinara.substep import NotebookSubstep, ENV_NAME, PIPELINE_NAME, ZONE_NAME, STEP_NAME, RUN_ID, ENTITY_NAME, ENTITY_PATH, SUBSTEP_NAME\n",
    "\n",
    "substep = NotebookSubstep(pipeline_params, step_params, substep_params)\n",
    "\n",
    "substep.interface(\n",
    "   \n",
    "    inputs =\n",
    "    [\n",
    "        { STEP_NAME: \"data_load\", ENTITY_NAME: \"boston_dataset\" },\n",
    "    ],\n",
    "    outputs = \n",
    "    [\n",
    "        { ENTITY_NAME: \"df_X_train\" },\n",
    "        { ENTITY_NAME: \"df_Y_train\" },\n",
    "        { ENTITY_NAME: \"df_X_eval\" },\n",
    "        { ENTITY_NAME: \"df_Y_eval\" },\n",
    "        { ENTITY_NAME: \"df_X_test\" },\n",
    "        { ENTITY_NAME: \"df_Y_test\" },\n",
    "        \n",
    "    ]\n",
    ")\n",
    "\n",
    "substep.print_interface_info()\n",
    "\n",
    "substep.exit_in_visualize_mode()"
   ]
  },
  {
   "cell_type": "code",
   "execution_count": null,
   "id": "55e950c3-3151-4daf-9b98-83d3aebe216d",
   "metadata": {
    "tags": []
   },
   "outputs": [],
   "source": [
    "#4 run spark\n",
    "from sinara.spark import SinaraSpark\n",
    "\n",
    "spark = SinaraSpark.run_session(0)\n",
    "SinaraSpark.ui_url()"
   ]
  },
  {
   "cell_type": "code",
   "execution_count": null,
   "id": "70b2d9b3-051c-424c-beec-9da8f177b4ed",
   "metadata": {
    "tags": []
   },
   "outputs": [],
   "source": [
    "#5 read inputs \n",
    "prev_step_inputs = substep.inputs(step_name=\"data_load\")\n",
    "\n",
    "boston_df = spark.read.parquet(prev_step_inputs.boston_dataset)"
   ]
  },
  {
   "cell_type": "code",
   "execution_count": null,
   "id": "04f8c516-079f-4473-8564-1cf66344872c",
   "metadata": {},
   "outputs": [],
   "source": [
    "#6 prepare the data and divide the boston dataset into train, eval and test subsets\n",
    "from sklearn.model_selection import train_test_split\n",
    "\n",
    "train_df, test_df = boston_df.randomSplit(weights=[0.7,0.3], seed=239)\n",
    "eval_df, test_df = test_df.randomSplit(weights=[0.5,0.5], seed=239)\n",
    "\n",
    "x_train = train_df.drop(\"MEDV\")\n",
    "y_train = train_df.select(\"MEDV\")\n",
    "\n",
    "x_eval = eval_df.drop(\"MEDV\")\n",
    "y_eval = eval_df.select(\"MEDV\")\n",
    "\n",
    "x_test = test_df.drop(\"MEDV\")\n",
    "y_test = test_df.select(\"MEDV\")"
   ]
  },
  {
   "cell_type": "code",
   "execution_count": null,
   "id": "47c68c69-46d1-48d0-a239-fac8bf36c6fa",
   "metadata": {},
   "outputs": [],
   "source": [
    "#7 write outputs\n",
    "outputs = substep.outputs()\n",
    "\n",
    "x_train.write.parquet(outputs.df_X_train, mode='overwrite')\n",
    "y_train.write.parquet(outputs.df_Y_train, mode='overwrite')\n",
    "\n",
    "x_eval.write.parquet(outputs.df_X_eval, mode='overwrite')\n",
    "y_eval.write.parquet(outputs.df_Y_eval, mode='overwrite')\n",
    "\n",
    "x_test.write.parquet(outputs.df_X_test, mode='overwrite')\n",
    "y_test.write.parquet(outputs.df_Y_test, mode='overwrite')"
   ]
  },
  {
   "cell_type": "code",
   "execution_count": null,
   "id": "82ef2430-57f2-42f4-a435-f50e1edd2c0b",
   "metadata": {
    "tags": []
   },
   "outputs": [],
   "source": [
    "#8 stop spark\n",
    "SinaraSpark.stop_session()"
   ]
  },
  {
   "cell_type": "code",
   "execution_count": null,
   "id": "0dbebece-0f9f-430a-aff8-6ddc78198672",
   "metadata": {},
   "outputs": [],
   "source": []
  }
 ],
 "metadata": {
  "kernelspec": {
   "display_name": "cv",
   "language": "python",
   "name": "python3"
  },
  "language_info": {
   "codemirror_mode": {
    "name": "ipython",
    "version": 3
   },
   "file_extension": ".py",
   "mimetype": "text/x-python",
   "name": "python",
   "nbconvert_exporter": "python",
   "pygments_lexer": "ipython3",
   "version": "3.10.12"
  }
 },
 "nbformat": 4,
 "nbformat_minor": 5
}
